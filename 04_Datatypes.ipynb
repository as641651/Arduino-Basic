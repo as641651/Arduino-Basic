{
 "cells": [
  {
   "cell_type": "markdown",
   "metadata": {},
   "source": [
    "## Basic data types\n",
    "\n",
    "> The size of certain data types are not same as the size on CPU version of C++. \n",
    "\n",
    "> This is because **sizes depend on microcontrollers instruction set**\n",
    "\n",
    ">> Eg, In a 64 bit CPU, **int** occupies **4 bytes**, but in **ATmega 8bit** MC, it occupies **2 bytes**. The range of numbers it can represent is decreased accordingly\n",
    "\n",
    "### We have to be consious of the resources used, as these data are stores in SRAM, which is only 2KB in ATmega328"
   ]
  },
  {
   "cell_type": "markdown",
   "metadata": {},
   "source": [
    "\n",
    "> 1) **boolean (8 bit / 1 byte)** - simple logical true/false\n",
    "\n",
    "> 2) **byte (8 bit / 1 byte)** - unsigned number from 0-255\n",
    "\n",
    "> 3) **char (8 bit / 1 byte)** - signed number from -128 to 127. The compiler will attempt to interpret this data type as a character in some circumstances, which may yield unexpected results\n",
    "\n",
    "> 4) **unsigned char (8 bit / 1 byte)** - same as ‘byte’; if this is what you’re after, you should use ‘byte’ instead, for reasons of clarity\n",
    "\n",
    "> 5) **word (16 bit / 2 byte)** - unsigned number from 0-65535\n",
    "\n",
    "> 6) **unsigned int (16 bit / 2 byte)**- the same as ‘word’. Use ‘word’ instead for clarity and brevity\n",
    "\n",
    ">7) **int (16 bit / 2 byte)** - signed number from -32768 to 32767. \n",
    "\n",
    "> 8) **unsigned long (32 bit / 4 byte)** - unsigned number from 0-4,294,967,295. The most common usage of this is to store the result of the **millis()** function, which returns the **number of milliseconds** the current code has been running\n",
    "    \n",
    "> 9) **long (32 bit / 4 byte)** - signed number from -2,147,483,648 to 2,147,483,647\n",
    "\n",
    "> 10) **float (32 bit / 4 byte)** - signed number from -3.4028235E38 to 3.4028235E38. **Floating point on the Arduino is not native; the compiler has to jump through hoops to make it work. This will make your sketch longer and slower** If you can avoid it, you should.\n",
    "\n",
    "> 11) **double** : Only **arduino due** can handle double. In other boards, this will be implicitly cast to **float** "
   ]
  },
  {
   "cell_type": "markdown",
   "metadata": {},
   "source": [
    "## String\n",
    "\n",
    "It takes two parameters in one of the following **syantax**,\n",
    "\n",
    "```c++\n",
    "String(val)\n",
    "String(val, base)\n",
    "String(val, decimalPlaces)\n",
    "```\n",
    "> **val**: a variable to format as a String - Allowed data types: string, char, byte, int, long, unsigned int, unsigned long, float, double\n",
    "\n",
    "> **base (optional)**: the base in which to format an integral value **decimalPlaces** (only if val is float or double): the desired decimal places"
   ]
  },
  {
   "cell_type": "markdown",
   "metadata": {},
   "source": [
    "**Examples of different constructs**\n",
    "\n",
    "```c++\n",
    "String stringOne = \"Hello String\";                        // using a constant String\n",
    "String stringOne =  String('a');                          // converting a constant char into a String\n",
    "String stringTwo =  String(\"This is a string\");           // converting a constant string into a String object\n",
    "String stringOne =  String(stringTwo + \" with more\");     // concatenating two strings\n",
    "String stringOne =  String(13);                           // using a constant integer\n",
    "String stringOne =  String(analogRead(0), DEC);           // using an int and a base\n",
    "String stringOne =  String(45, HEX);                      // using an int and a base (hexadecimal)\n",
    "String stringOne =  String(255, BIN);                     // using an int and a base (binary)\n",
    "String stringOne =  String(millis(), DEC);                // using a long and a base\n",
    "String stringOne =  String(5.698, 3);                     // using a float and the decimal places\n",
    "\n",
    "```"
   ]
  },
  {
   "cell_type": "markdown",
   "metadata": {},
   "source": [
    "### Arrays\n",
    "\n",
    "**Examples of different constructs**"
   ]
  },
  {
   "cell_type": "markdown",
   "metadata": {},
   "source": [
    "```c++\n",
    "  int myInts[6];\n",
    "  int myPins[] = {2, 4, 8, 3, 6};\n",
    "  int mySensVals[6] = {2, 4, -8, 3, 2};\n",
    "  char message[6] = \"hello\";\n",
    "```"
   ]
  },
  {
   "cell_type": "markdown",
   "metadata": {},
   "source": [
    "### Language reference\n",
    "\n",
    "> **Help --> Reference**"
   ]
  },
  {
   "cell_type": "code",
   "execution_count": null,
   "metadata": {},
   "outputs": [],
   "source": []
  }
 ],
 "metadata": {
  "kernelspec": {
   "display_name": "Python 3",
   "language": "python",
   "name": "python3"
  },
  "language_info": {
   "codemirror_mode": {
    "name": "ipython",
    "version": 3
   },
   "file_extension": ".py",
   "mimetype": "text/x-python",
   "name": "python",
   "nbconvert_exporter": "python",
   "pygments_lexer": "ipython3",
   "version": "3.4.3"
  }
 },
 "nbformat": 4,
 "nbformat_minor": 2
}
