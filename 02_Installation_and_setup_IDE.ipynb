{
 "cells": [
  {
   "cell_type": "markdown",
   "metadata": {},
   "source": [
    "## Installation and setup of IDE"
   ]
  },
  {
   "cell_type": "markdown",
   "metadata": {},
   "source": [
    "### Desktop IDE 1.8.8\n",
    "\n",
    "> 1) Download **[Arduino IDE](https://www.arduino.cc/en/Main/Software)** for linux 64 bit\n",
    "\n",
    "> 2) Extract the zip file and start the IDE with\n",
    "```bash\n",
    "./arduino\n",
    "```\n",
    "\n",
    "> 3) Set location to save sketches by clicking **File -> Preferences**. The additional libraries will also be installed under this location in a folder named **libraries**\n",
    "\n",
    "> 4) The sketches are saved in **.ino** format\n",
    "\n",
    "> 5) To rename a sketch, rename both the created **folder** and the **.ino** to a same name. Restart IDE to refresh sketchbook menu\n",
    "\n",
    "> 6) The IDE comes with a bunch of preloaded examples, which can be accessed from **File -> Examples**"
   ]
  },
  {
   "cell_type": "markdown",
   "metadata": {},
   "source": [
    "### Installing libraries\n",
    "\n",
    "> **Sketch -> Include libraries -> Manage libraries**. \n",
    "\n",
    "> The libraries will be stored under the **libraries** folder in your **Sketches directory**\n",
    "\n",
    "> **To remove** a library, just **delete the corresponding library folder** from your directory"
   ]
  },
  {
   "cell_type": "markdown",
   "metadata": {},
   "source": [
    "### Uploading the sketch\n",
    "\n",
    "> 1) **Sketch -> Upload** or just click the **forward arraow** button on the top left (If arduino has a bootloader installed)\n",
    "\n",
    "> 2) Without bootloader,it is possible to upload sketches using a **hardware device** called **ICSP programmer**, which is a generic way to upload code on to a microcontroller. For this option, click **Sketch -> Upload using programmer**. To select other programmers, choose the relevant option from **Tools -> programmer**\n",
    "\n",
    "> 3) If the microprocessor already comes with the **bootloader**, we can directly use the USB interface to connect to arduino. If not, we have to first **burn the bootloader** using external programmer device\n",
    "\n",
    ">> a) Buy a cheap programmer device (**USBasp** ~ 200INR) and wire it up \n",
    "\n",
    ">> b) Choose programmer **Tools -> programmer -> USBasp** \n",
    "\n",
    ">> c) **Tools -> Burn bootloader**\n",
    "\n",
    "> 4) **On uploading skect,** the compiler shows the waarnings errors and storage info. Eg,\n",
    "```bash\n",
    "Sketch uses 930 bytes (2%) of program storage space. Maximum is 32256 bytes.\n",
    "Global variables use 9 bytes (0%) of dynamic memory, leaving 2039 bytes for local variables. Maximum is 2048 bytes.\n",
    "```"
   ]
  },
  {
   "cell_type": "markdown",
   "metadata": {},
   "source": [
    "### Compiling into a binary file without uploading\n",
    "\n",
    "> **Sketch -> Export compiled binary**"
   ]
  },
  {
   "cell_type": "markdown",
   "metadata": {},
   "source": [
    "### Useful features\n",
    "\n",
    "> 1) **Tools -> Auto format** : Automatically aligns mis-aligned parts of the code \n",
    "\n",
    "> 2) **Tools -> Archive sketch** : Compresses your current sketch into a zip file\n",
    "\n",
    "> 3) **Tools -> Fix encoding** : Fixes characters that are not compatabile with the compiler. Especially when copying code from internet, we may want to get rid of certain invisible characters"
   ]
  },
  {
   "cell_type": "markdown",
   "metadata": {},
   "source": [
    "### Selecting arduino board\n",
    "\n",
    "> 1) Select board type: **Tools -> Board**\n",
    "\n",
    "> 2) Select **port** to which arduino is connected : **Tools -> port** \n",
    "\n",
    "> 3) To verify if you have connected to the right port, check **Tools -> Board info** after selecting a port"
   ]
  },
  {
   "cell_type": "markdown",
   "metadata": {},
   "source": [
    "### Cable used to connect  USB to UNO ATmega328p\n",
    "\n",
    "> **Type A to Type B** USB 2.0 cable (USB 3.0 slots are usually backward compatable with USB 2.0)"
   ]
  },
  {
   "cell_type": "code",
   "execution_count": null,
   "metadata": {},
   "outputs": [],
   "source": []
  }
 ],
 "metadata": {
  "kernelspec": {
   "display_name": "Python 3",
   "language": "python",
   "name": "python3"
  },
  "language_info": {
   "codemirror_mode": {
    "name": "ipython",
    "version": 3
   },
   "file_extension": ".py",
   "mimetype": "text/x-python",
   "name": "python",
   "nbconvert_exporter": "python",
   "pygments_lexer": "ipython3",
   "version": "3.4.3"
  }
 },
 "nbformat": 4,
 "nbformat_minor": 2
}
