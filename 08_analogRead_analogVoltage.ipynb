{
 "cells": [
  {
   "cell_type": "markdown",
   "metadata": {},
   "source": [
    "### Reading analog pins"
   ]
  },
  {
   "cell_type": "markdown",
   "metadata": {},
   "source": [
    "> The voltage on analog pin is set with potentiometer. The values range from 0 - 1024, which is 10 bit resolution (for UNO)\n",
    "\n",
    "> To read analog values, we use **[analogRead(pin)](https://www.arduino.cc/reference/en/language/functions/analog-io/analogread/)**\n",
    "\n",
    "### Getting voltage from analog reading\n",
    "\n",
    "> **A0*(Vcc/1023.)**\n",
    "\n",
    "> Vcc is 5V when the analog device is connected to 5V supply\n"
   ]
  },
  {
   "cell_type": "markdown",
   "metadata": {},
   "source": [
    "### Sketch"
   ]
  },
  {
   "cell_type": "markdown",
   "metadata": {},
   "source": [
    "<div style=\"border:2px solid;margin:0 20px 0 20px\" ></div> \n",
    "\n",
    "```c++\n",
    "void setup() {\n",
    "  // put your setup code here, to run once:\n",
    "  Serial.begin(9600);\n",
    "}\n",
    "\n",
    "void loop() {\n",
    "  // put your main code here, to run repeatedly:\n",
    "\n",
    "  // read the value of analog pin A0\n",
    "  // value ranges from 0 - 1024\n",
    "  // these values are changed by changing the knob of potentiometer\n",
    "  Serial.println(analogRead(A0));\n",
    "\n",
    "}\n",
    "```\n",
    "\n",
    "<div style=\"border:2px solid;margin:0 20px 0 20px\" ></div> \n"
   ]
  },
  {
   "cell_type": "code",
   "execution_count": null,
   "metadata": {},
   "outputs": [],
   "source": []
  }
 ],
 "metadata": {
  "kernelspec": {
   "display_name": "Python 3",
   "language": "python",
   "name": "python3"
  },
  "language_info": {
   "codemirror_mode": {
    "name": "ipython",
    "version": 3
   },
   "file_extension": ".py",
   "mimetype": "text/x-python",
   "name": "python",
   "nbconvert_exporter": "python",
   "pygments_lexer": "ipython3",
   "version": "3.4.3"
  }
 },
 "nbformat": 4,
 "nbformat_minor": 2
}
