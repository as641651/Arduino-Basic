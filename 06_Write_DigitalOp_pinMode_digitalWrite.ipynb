{
 "cells": [
  {
   "cell_type": "markdown",
   "metadata": {},
   "source": [
    "## Controlling output state of digital pins"
   ]
  },
  {
   "cell_type": "markdown",
   "metadata": {},
   "source": [
    "**[pinMode](https://www.arduino.cc/reference/en/language/functions/digital-io/pinmode/)**\n",
    "\n",
    "> Configures the specified pin to behave either as an input or an output\n",
    "\n",
    "> Syntax\n",
    "\n",
    ">> pinMode(pin, mode)\n",
    "\n",
    "> **Parameters**\n",
    "\n",
    ">> **pin**: the number of the pin whose mode you wish to set\n",
    "\n",
    ">> **mode**: INPUT, OUTPUT, or INPUT_PULLUP. (see the ([digital pins](https://www.arduino.cc/en/Tutorial/DigitalPins)) page for a more complete description of the functionality.)\n",
    "\n"
   ]
  },
  {
   "cell_type": "markdown",
   "metadata": {},
   "source": [
    "**[digitalWrite](https://www.arduino.cc/reference/en/language/functions/digital-io/digitalwrite/)**\n",
    "\n",
    "Write a HIGH or a LOW value to a digital pin."
   ]
  },
  {
   "cell_type": "markdown",
   "metadata": {},
   "source": [
    "> Syntax\n",
    "\n",
    ">> digitalWrite(pin, value)\n",
    "\n",
    "> **Parameters**\n",
    "\n",
    ">> pin: the pin number\n",
    "\n",
    ">> value: HIGH or LOW\n"
   ]
  },
  {
   "cell_type": "markdown",
   "metadata": {},
   "source": [
    "### Sketch\n"
   ]
  },
  {
   "cell_type": "markdown",
   "metadata": {},
   "source": [
    "<div style=\"border:2px solid;margin:0 20px 0 20px\" ></div> \n",
    "\n",
    "```c++\n",
    "// Make LED blink by controlling the ouput volts from Digital pin 8\n",
    "void setup() {\n",
    "  // put your setup code here, to run once:\n",
    "\n",
    "  // Get pin number 8\n",
    "  // Digital pins can be input or output.\n",
    "  // If nothing is specifies, it is Input\n",
    "  // When we want to write a HIGH or LOW to a PIN, use OUTPUT\n",
    "  pinMode(8, OUTPUT);\n",
    "\n",
    "}\n",
    "\n",
    "void loop() {\n",
    "  // put your main code here, to run repeatedly:\n",
    "\n",
    "  //control state of pin 8\n",
    "  // Make pin 8 output 5V\n",
    "  digitalWrite(8, HIGH);\n",
    "  delay(1000);\n",
    "  // Make pin 8 output 0V\n",
    "  digitalWrite(8, LOW);\n",
    "  delay(1000);\n",
    "\n",
    "}\n",
    "```\n",
    "<div style=\"border:2px solid;margin:0 20px 0 20px\" ></div> \n"
   ]
  },
  {
   "cell_type": "code",
   "execution_count": null,
   "metadata": {},
   "outputs": [],
   "source": []
  }
 ],
 "metadata": {
  "kernelspec": {
   "display_name": "Python 3",
   "language": "python",
   "name": "python3"
  },
  "language_info": {
   "codemirror_mode": {
    "name": "ipython",
    "version": 3
   },
   "file_extension": ".py",
   "mimetype": "text/x-python",
   "name": "python",
   "nbconvert_exporter": "python",
   "pygments_lexer": "ipython3",
   "version": "3.4.3"
  }
 },
 "nbformat": 4,
 "nbformat_minor": 2
}
