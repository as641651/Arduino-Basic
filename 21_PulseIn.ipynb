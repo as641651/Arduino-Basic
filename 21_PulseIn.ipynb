{
 "cells": [
  {
   "cell_type": "markdown",
   "metadata": {},
   "source": [
    "## Using pulseIn"
   ]
  },
  {
   "cell_type": "markdown",
   "metadata": {},
   "source": [
    "> The information from a digital signal can be decoded from it's **pulse**. That is, from the **duration of a digital pin remaining HIGH / LOW**\n",
    "\n",
    "> This pulse is measured using **[pulseIn](https://www.arduino.cc/reference/en/language/functions/advanced-io/pulsein/)** function"
   ]
  },
  {
   "cell_type": "markdown",
   "metadata": {},
   "source": [
    "#### Eg, Measure the duration of HIGH on a echo pin in Ultrasonic sensor (see previous notes for details)\n",
    "\n",
    "> 1) To start sensor to emit ultrasonic waves, **Trigger pin** should remain HIGH for **10 micro seconds**.\n",
    "\n",
    "> 2) After emiiting the ultrasonic waves, the **receiver checks for bounce backs and send the echo pin to HIGH**.\n",
    "\n",
    "> 3) The **duration of HIGH on a echo pin** can be used to measure the **distance of an object**\n",
    "\n",
    "<img src=\"files/pulsein.png\" width=500px/>"
   ]
  },
  {
   "cell_type": "markdown",
   "metadata": {},
   "source": [
    "### Skecth"
   ]
  },
  {
   "cell_type": "markdown",
   "metadata": {},
   "source": [
    "<div style=\"border:2px solid;margin:0 20px 0 20px\" ></div> \n",
    "\n",
    "```c++\n",
    "#define trigPin 13\n",
    "#define echoPin 12\n",
    "\n",
    "void setup() {\n",
    "  Serial.begin (9600);\n",
    "  pinMode(trigPin, OUTPUT);\n",
    "  pinMode(echoPin, INPUT);\n",
    "}\n",
    "\n",
    "void loop() {\n",
    "  long duration, distance;\n",
    "  digitalWrite(trigPin, LOW); \n",
    "  delayMicroseconds(2); \n",
    "  digitalWrite(trigPin, HIGH);\n",
    "  delayMicroseconds(10);\n",
    "  digitalWrite(trigPin, LOW);\n",
    "  duration = pulseIn(echoPin, HIGH);\n",
    "  distance = (duration/2) / 29.1;\n",
    "\n",
    "  if (distance >= 200 || distance <= 0){\n",
    "    Serial.println(\"Out of range\");\n",
    "  }\n",
    "  else {\n",
    "    Serial.print(distance);\n",
    "    Serial.println(\" cm\");\n",
    "  }\n",
    "  delay(500);\n",
    "}\n",
    "```\n",
    "<div style=\"border:2px solid;margin:0 20px 0 20px\" ></div> \n"
   ]
  },
  {
   "cell_type": "code",
   "execution_count": null,
   "metadata": {},
   "outputs": [],
   "source": []
  }
 ],
 "metadata": {
  "kernelspec": {
   "display_name": "Python 3",
   "language": "python",
   "name": "python3"
  },
  "language_info": {
   "codemirror_mode": {
    "name": "ipython",
    "version": 3
   },
   "file_extension": ".py",
   "mimetype": "text/x-python",
   "name": "python",
   "nbconvert_exporter": "python",
   "pygments_lexer": "ipython3",
   "version": "3.4.3"
  }
 },
 "nbformat": 4,
 "nbformat_minor": 2
}
