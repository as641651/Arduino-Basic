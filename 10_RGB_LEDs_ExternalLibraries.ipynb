{
 "cells": [
  {
   "cell_type": "markdown",
   "metadata": {},
   "source": [
    "## Controlling RGB LEDs\n",
    "\n",
    "RGB LEDs have a common cathode (or anode) as a long pin. There are three more pins for each color Red, Blue and Green."
   ]
  },
  {
   "cell_type": "markdown",
   "metadata": {},
   "source": [
    "### Sketch\n",
    "\n",
    "For both analog and digital control"
   ]
  },
  {
   "cell_type": "markdown",
   "metadata": {},
   "source": [
    "<div style=\"border:2px solid;margin:0 20px 0 20px\" ></div> \n",
    "\n",
    "```c++\n",
    "\n",
    "#define RED_PIN 3\n",
    "#define GREEN_PIN 6\n",
    "#define BLUE_PIN 5\n",
    "\n",
    "void setup() {\n",
    "  // put your setup code here, to run once:\n",
    "  pinMode(RED_PIN, OUTPUT);\n",
    "  pinMode(GREEN_PIN, OUTPUT);\n",
    "  pinMode(BLUE_PIN, OUTPUT);\n",
    "\n",
    "}\n",
    "\n",
    "void loop() {\n",
    "  // put your main code here, to run repeatedly:\n",
    "  //RGB_digital();\n",
    "  RGB_analog();\n",
    "\n",
    "\n",
    "}\n",
    "\n",
    "void RGB_ditial(){\n",
    "  digitalWrite(GREEN_PIN, LOW);\n",
    "  digitalWrite(RED_PIN, HIGH);\n",
    "  delay(1000);\n",
    "  digitalWrite(RED_PIN, LOW);\n",
    "  digitalWrite(BLUE_PIN, HIGH);\n",
    "  delay(1000);\n",
    "  digitalWrite(BLUE_PIN, LOW);\n",
    "  digitalWrite(GREEN_PIN, HIGH);\n",
    "  delay(1000);\n",
    "}\n",
    "\n",
    "void RGB_analog(){\n",
    "  analogWrite(GREEN_PIN, 50);\n",
    "  analogWrite(RED_PIN, 100);\n",
    "  analogWrite(BLUE_PIN, 100);\n",
    "}\n",
    "```\n",
    "<div style=\"border:2px solid;margin:0 20px 0 20px\" ></div> \n"
   ]
  },
  {
   "cell_type": "markdown",
   "metadata": {},
   "source": [
    "### Using external libraries\n",
    "\n",
    "> 1) Go to **Sketch -> Include library -> Manage Libraries**\n",
    "\n",
    "> 2) Install **ALA** library. The library can be found under the **sketch directory** defined in the preferences\n",
    "\n",
    "> 3) Check usage by browsing **Examples** under **File -> Examples -> ALA**\n",
    "\n",
    "> **Here is a sketch for blending RGB colors** .Browse through [documentation](https://github.com/bportaluri/ALA) for this library for more details about usage and parameters\n",
    "\n",
    "> **NOTE** : Be aware of the size used by these libraries. The following few lines of code occupy 20KB (almost 65% of SRAM memory)"
   ]
  },
  {
   "cell_type": "markdown",
   "metadata": {},
   "source": [
    "<div style=\"border:2px solid;margin:0 20px 0 20px\" ></div> \n",
    "\n",
    "```c++\n",
    "#include <AlaLedRgb.h>\n",
    "\n",
    "#define REDPIN 11\n",
    "#define GREENPIN 9\n",
    "#define BLUEPIN 10\n",
    "\n",
    "AlaLedRgb rgbLed;\n",
    "\n",
    "void setup()\n",
    "{\n",
    "  rgbLed.initPWM(REDPIN, GREENPIN, BLUEPIN);                 // initialize output pins\n",
    "  rgbLed.setBrightness(0x66FF44);                            // calibrate white\n",
    "  rgbLed.setAnimation(ALA_FADECOLORSLOOP, 5000, alaPalRgb);  // set the animation\n",
    "}\n",
    "\n",
    "void loop()\n",
    "{\n",
    "  rgbLed.runAnimation();  // run the animation indefinitely\n",
    "}\n",
    "```\n",
    "<div style=\"border:2px solid;margin:0 20px 0 20px\" ></div> \n"
   ]
  },
  {
   "cell_type": "code",
   "execution_count": null,
   "metadata": {},
   "outputs": [],
   "source": []
  }
 ],
 "metadata": {
  "kernelspec": {
   "display_name": "Python 3",
   "language": "python",
   "name": "python3"
  },
  "language_info": {
   "codemirror_mode": {
    "name": "ipython",
    "version": 3
   },
   "file_extension": ".py",
   "mimetype": "text/x-python",
   "name": "python",
   "nbconvert_exporter": "python",
   "pygments_lexer": "ipython3",
   "version": "3.4.3"
  }
 },
 "nbformat": 4,
 "nbformat_minor": 2
}
