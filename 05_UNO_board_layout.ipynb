{
 "cells": [
  {
   "cell_type": "markdown",
   "metadata": {},
   "source": [
    "## UNO board layout"
   ]
  },
  {
   "cell_type": "markdown",
   "metadata": {},
   "source": [
    "<img src=\"files/arduino_uno2.png\" />\n",
    "\n",
    "\n",
    "**ATmega328P (used on most recent boards) : 16Mhz, 8bit, 5V**\n",
    "\n",
    "> 1) Digital I/O Pins\t14 (of which 6 provide PWM output)\n",
    "\n",
    ">> Pins **1** and **0**, marks as TF, RX cannot be used when connected to PC\n",
    "\n",
    "> 2) Analog Input Pins\t6 (DIP) or 8 (SMD)\n",
    "\n",
    "> 3) **3** GND pins\n",
    "\n",
    "> 4) DC Current per I/O Pin\t40 mA\n",
    "\n",
    "> 5) Flash Memory\t32 KB\n",
    "\n",
    "> 6) SRAM\t2 KB\n",
    "\n",
    "> 7) EEPROM\t1KB"
   ]
  },
  {
   "cell_type": "markdown",
   "metadata": {},
   "source": [
    "### Another layout\n",
    "\n",
    "<img src=\"files/arduino_uno.png\" />\n",
    "\n",
    "Starting clockwise from the top center:\n",
    "\n",
    "    Analog Reference pin (orange)\n",
    "    Digital Ground (light green)\n",
    "    Digital Pins 2-13 (green)\n",
    "    Digital Pins 0-1/Serial In/Out - TX/RX (dark green) - These pins cannot be used for digital i/o (digitalRead and digitalWrite) if you are also using serial communication (e.g. Serial.begin).\n",
    "    Reset Button - S1 (dark blue)\n",
    "    In-circuit Serial Programmer (blue-green)\n",
    "    Analog In Pins 0-5 (light blue)\n",
    "    Power and Ground Pins (power: orange, grounds: light orange)\n",
    "    External Power Supply In (9-12VDC) - X1 (pink)\n",
    "    Toggles External Power and USB Power (place jumper on two pins closest to desired supply) - SV1 (purple)\n",
    "    USB (used for uploading sketches to the board and for serial communication between the board and the computer; can be used to power the board) (yellow) "
   ]
  },
  {
   "cell_type": "code",
   "execution_count": null,
   "metadata": {},
   "outputs": [],
   "source": []
  }
 ],
 "metadata": {
  "kernelspec": {
   "display_name": "Python 3",
   "language": "python",
   "name": "python3"
  },
  "language_info": {
   "codemirror_mode": {
    "name": "ipython",
    "version": 3
   },
   "file_extension": ".py",
   "mimetype": "text/x-python",
   "name": "python",
   "nbconvert_exporter": "python",
   "pygments_lexer": "ipython3",
   "version": "3.4.3"
  }
 },
 "nbformat": 4,
 "nbformat_minor": 2
}
