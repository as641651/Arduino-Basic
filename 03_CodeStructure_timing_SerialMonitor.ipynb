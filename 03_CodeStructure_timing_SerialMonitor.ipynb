{
 "cells": [
  {
   "cell_type": "markdown",
   "metadata": {},
   "source": [
    "## Basic structure, Timing and Monitor data in desktop"
   ]
  },
  {
   "cell_type": "markdown",
   "metadata": {},
   "source": [
    "### Basic structure\n",
    "\n",
    "> All Programming constructs are same as **C++**. \n",
    "\n",
    "> Mandatory functions in arduino framework"
   ]
  },
  {
   "cell_type": "markdown",
   "metadata": {},
   "source": [
    "```c++\n",
    "        void setup() {\n",
    "          // put your setup code here, to run once:\n",
    "\n",
    "        }\n",
    "\n",
    "        void loop() {\n",
    "          // put your main code here, to run repeatedly:\n",
    "\n",
    "        }\n",
    "```"
   ]
  },
  {
   "cell_type": "markdown",
   "metadata": {},
   "source": [
    "### Program to make LED blink \n",
    "\n",
    "Here is a simple **hello world** program : \n",
    "\n",
    "> 1) Make the built-in LED (connected to pin 13) bilnk with delay of 1s.\n",
    "\n",
    "> 2) Print the status on dektop using **Serial**. \n",
    "\n",
    ">> a) Set the **data transfer speed** with **Serial.begin(9600)**. \n",
    "\n",
    ">> b) Use **Serial.println()** for outputs \n",
    "\n",
    "> 3) Connect the arduino, select the right board and port, and **upload code** \n",
    "\n",
    "> 4) To monitor the result on desktop, click **Tools -> Serial monitor** or click the **magnifying glass** button on the top right. Set the **same data transfer speed (9600) on the Serial monitor**. (Otherwise, the message may be missed)"
   ]
  },
  {
   "cell_type": "markdown",
   "metadata": {},
   "source": [
    "#### Timing functions:\n",
    "\n",
    "> 1) **millis()** : Returns the miliseconds after the start of arduino. This counter is reset when the **reset button** on arduino is clicked\n",
    "\n",
    "> 2) **delay(ms)** : Number of milliseconds to delay"
   ]
  },
  {
   "cell_type": "markdown",
   "metadata": {},
   "source": [
    "<div style=\"border:2px solid;margin:0 20px 0 20px\" ></div> \n",
    "\n",
    "```c++\n",
    "// the setup function runs once when you press reset or power the board\n",
    "void setup() {\n",
    "  // initialize digital pin LED_BUILTIN as an output.\n",
    "  // Built In LED is connected to PIN 13\n",
    "  pinMode(LED_BUILTIN, OUTPUT);\n",
    "  // pinMode(13, OUTPUT); // Equivalent\n",
    "  \n",
    "  Serial.begin(9600); //Set data speed to computer at 9600 bits per second.\n",
    "  // 9600 is an optimal value. Make sure that this data speed matches with data speed in monitor window\n",
    "  Serial.println(\"Hello\"); // This data will be sent to desktop and output can be viewed via serial monitor\n",
    "}\n",
    "\n",
    "// the loop function runs over and over again forever\n",
    "void loop() {\n",
    "  Serial.println(millis())           // prints the millisecond since the arduino was started / restarted\n",
    "  digitalWrite(LED_BUILTIN, HIGH);   // turn the LED on (HIGH is the voltage level)\n",
    "  delay(1000);                       // wait for a second\n",
    "  Serial.println(\"ON\");              // print ON in the desktops serial monitor\n",
    "  digitalWrite(LED_BUILTIN, LOW);    // turn the LED off by making the voltage LOW\n",
    "  delay(1000);                       // wait for a second\n",
    "  Serial.println(\"OFF\");             // print OFF in desktops serial monitor\n",
    "}\n",
    "```\n",
    "<div style=\"border:2px solid;margin:0 20px 0 20px\" ></div> \n"
   ]
  },
  {
   "cell_type": "markdown",
   "metadata": {},
   "source": [
    "### Note:\n",
    "\n",
    "> **Serial plotter** : If you are streaming numbers to desktop, you can use **serial plotter** to monitor the data in the form of graph"
   ]
  },
  {
   "cell_type": "code",
   "execution_count": null,
   "metadata": {},
   "outputs": [],
   "source": []
  }
 ],
 "metadata": {
  "kernelspec": {
   "display_name": "Python 3",
   "language": "python",
   "name": "python3"
  },
  "language_info": {
   "codemirror_mode": {
    "name": "ipython",
    "version": 3
   },
   "file_extension": ".py",
   "mimetype": "text/x-python",
   "name": "python",
   "nbconvert_exporter": "python",
   "pygments_lexer": "ipython3",
   "version": "3.4.3"
  }
 },
 "nbformat": 4,
 "nbformat_minor": 2
}
