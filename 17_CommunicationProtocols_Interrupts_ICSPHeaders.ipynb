{
 "cells": [
  {
   "cell_type": "markdown",
   "metadata": {},
   "source": [
    "## Communication protocols"
   ]
  },
  {
   "cell_type": "markdown",
   "metadata": {},
   "source": [
    "> For communicating with **other devices** like **LED screen, accelerometer** or **other sophisticated sensors** etc, there are several **communication protocols**. **Multiple arduinos** can also be connected in series. Establishing such communications with general purpose input output pins **(GPIO)** can be tedious. The common communication protocols in arduino family are listed below\n",
    "\n",
    "> **Establishing communication through protocols**:\n",
    "\n",
    ">> 1) Connect the **protocol pins** from arduino to the device\n",
    "\n",
    ">> 2) Connect the **VCC and GND** pin from arduino to the device "
   ]
  },
  {
   "cell_type": "markdown",
   "metadata": {},
   "source": [
    "### UART (Universal Synchronous Receiver Transmitter)"
   ]
  },
  {
   "cell_type": "markdown",
   "metadata": {},
   "source": [
    "> 1) It allows to **transmit and receive data** at the **same time**. (**Full duplex**)\n",
    "\n",
    "> 2) **Protocol pins** : Established through **RX** and **TX** pins.\n",
    "\n",
    "> 3) Only **one** device can be connected for communication through these pins. \n",
    "\n",
    "> 4) Default RX and TX are implemented at **pin 0 and pin 1** respectively. These pins are connected to the chip (**serial port**) that enables **USB communication with the computer**. Therefore, **pin 0** and **pin 1** are not available when connected to a computer.\n",
    "\n",
    "> 5) It is possible to use **[software serial library](https://www.arduino.cc/en/Reference/SoftwareSerial)** to implement UART interface at other pins. Then it is possible to have multiple devices communicating when connected to computer. But still, the arduino can communicate to only **one device at a time** \n"
   ]
  },
  {
   "cell_type": "markdown",
   "metadata": {},
   "source": [
    "<div style=\"border:2px solid;margin:0 20px 0 20px\" ></div> \n",
    "\n",
    "```c++\n",
    "        #include <SoftwareSerial.h>\n",
    "\n",
    "        SoftwareSerial mySerial(10, 11); // RX, TX\n",
    "\n",
    "        void setup() {\n",
    "          // Open serial communications and wait for port to open:\n",
    "          Serial.begin(57600);\n",
    "          while (!Serial) {\n",
    "            ; // wait for serial port to connect. Needed for native USB port only\n",
    "          }\n",
    "\n",
    "\n",
    "          Serial.println(\"Goodnight moon!\");\n",
    "\n",
    "          // set the data rate for the SoftwareSerial port\n",
    "          mySerial.begin(4800);\n",
    "          mySerial.println(\"Hello, world?\");\n",
    "        }\n",
    "\n",
    "        void loop() { // run over and over\n",
    "          if (mySerial.available()) {\n",
    "            Serial.write(mySerial.read());\n",
    "          }\n",
    "          if (Serial.available()) {\n",
    "            mySerial.write(Serial.read());\n",
    "          }\n",
    "        }\n",
    "```\n",
    "<div style=\"border:2px solid;margin:0 20px 0 20px\" ></div> \n"
   ]
  },
  {
   "cell_type": "markdown",
   "metadata": {},
   "source": [
    "### I2C (Inter Integrated circuit)\n",
    "\n",
    "> 1) Also known as **TWI** (Two-wire interface)\n",
    "\n",
    "> 2) It is **Half duplex**. That is, data can be only **sent or received at a time.**\n",
    "\n",
    "> 3) **Protocol pins** : \n",
    "\n",
    ">> **SDA**: Serial data line. (Also implemented on pin **A4** in **UNO**)\n",
    "\n",
    ">> **SCL**: Serial clock line. (Also implemented on pin **A5** in **UNO**)\n",
    "\n",
    ">>> **NOTE**: There is only one I2C port in UNO. Analog pins are same as Serial pins.\n",
    "\n",
    "> 4) Multiple devices (upto 127, corresponding to 7 bit address) can be connected in serial with the same pin. (if there are **no address conflicts**). \n",
    "\n",
    "> 5) The connected devices are called **slave device**. Each **slave device** should have **unique address**. It is also possible to have multiple master devices controling a single slave device (like battery) \n",
    "\n",
    "> 6) In some sensors, it is not possible to change this address. In some sensors, it possible to change this address by short circuiting certain lines as described in their datasheet.\n",
    "\n",
    ">> When planning to use **multiple I2C devices on a single board**, **make sure if they can be set to different addresses**\n",
    "\n",
    "> 7) Still, arduino can **commuinicate** with only **one device at a time**\n",
    "\n",
    "> 8) To use **I2C**, we have to include **Wire.h**\n",
    "\n",
    "> 9) **[EXAMPLE SKTECH](https://github.com/futureshocked/ArduinoSbS2017/blob/master/_0460_-_Temperature_MCP9808/_0460_-_Temperature_MCP9808.ino)**"
   ]
  },
  {
   "cell_type": "markdown",
   "metadata": {},
   "source": [
    "### SPI (Serial peripheral interface)\n",
    "\n",
    "> 1) It is a **very fast** serial **full duplex** communication.\n",
    "\n",
    "> 2) **Protocol pins**: **Connected to some digital IO pins**\n",
    "\n",
    ">> **MOSI** : Data line (Master out slave in), **PIN 11**\n",
    "\n",
    ">> **MISO** : Data line (Master in slave out), **PIN 12**\n",
    "\n",
    ">> **SCK** : Clock, **PIN 13**\n",
    "\n",
    ">> **SS**: Slave select, **PIN 10**\n",
    "\n",
    ">>> The pins in arduino are assigned for this protocol with **[SPI library](https://www.arduino.cc/en/Reference/SPI)**. **If no SPI pins are specified in the datasheet of the module you are using, then these default pins should be used**\n",
    "\n",
    "<img src=\"files/spi.png\" width=400px/>\n",
    "\n",
    "> 3) When multiple devices are connected, the **data and clock lines** can be **shared**, but **each slave** should have **separate Slave Select (SS) pin**\n",
    "\n",
    "> 4) Still, arduino can **commuinicate** with only **one device at a time**\n",
    "\n",
    "> 5) Have to include **SPI.h**\n",
    "\n",
    "> 6) **[EXAMPLE SKTECH](https://github.com/futureshocked/TE-Arduino-SbS-Getting-Serious/blob/master/_0490_-_BME280_environment_sensor/_0490_-_BME280_environment_sensor.ino)**"
   ]
  },
  {
   "cell_type": "markdown",
   "metadata": {},
   "source": [
    "## Interrupts\n",
    "\n",
    "> It is possible to implement an **interupt**, where the external device can stop the current opertions in arduino and run an interrupt code.\n",
    "\n",
    "> To allow interrupt, the module should have a dedicated **interrupt (INT) pin**. This pin should be connected to **PIN 2 or 3** in arduino UNO\n",
    "\n",
    "> [Click here](https://www.arduino.cc/reference/en/language/functions/external-interrupts/attachinterrupt/) for usage details\n",
    "\n",
    "<img src=\"files/interrupts.png\" width=700px />"
   ]
  },
  {
   "cell_type": "markdown",
   "metadata": {},
   "source": [
    "## Using external hardware to communicate with micro controller"
   ]
  },
  {
   "cell_type": "markdown",
   "metadata": {},
   "source": [
    "### ICSP header (In Circuit Serial Programming)\n",
    "\n",
    "> 1) These are the **two sets** of **2x3** pins on your UNO board.\n",
    "\n",
    "> 2) It allows to attach a special hardware called **hardware programmer**, that allows you to **directly program your microcontroller**\n",
    "\n",
    "> 3) There are **two sets, because there are two MCs**. One is the main MC **ATmega328p**. The other is for the **USB controller**"
   ]
  },
  {
   "cell_type": "code",
   "execution_count": null,
   "metadata": {},
   "outputs": [],
   "source": []
  }
 ],
 "metadata": {
  "kernelspec": {
   "display_name": "Python 3",
   "language": "python",
   "name": "python3"
  },
  "language_info": {
   "codemirror_mode": {
    "name": "ipython",
    "version": 3
   },
   "file_extension": ".py",
   "mimetype": "text/x-python",
   "name": "python",
   "nbconvert_exporter": "python",
   "pygments_lexer": "ipython3",
   "version": "3.4.3"
  }
 },
 "nbformat": 4,
 "nbformat_minor": 2
}
