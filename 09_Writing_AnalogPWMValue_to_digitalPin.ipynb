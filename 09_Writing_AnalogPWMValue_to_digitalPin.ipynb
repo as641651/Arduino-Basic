{
 "cells": [
  {
   "cell_type": "markdown",
   "metadata": {},
   "source": [
    "## Writing analog value to a digital pin"
   ]
  },
  {
   "cell_type": "markdown",
   "metadata": {},
   "source": [
    "> 1) Use the **reading from Analog** pin to **modify the voltage output on Digital** pin.\n",
    "\n",
    ">2) Only digital pins marked with **tilda** are capable of accepting pulse width modulated signals"
   ]
  },
  {
   "cell_type": "markdown",
   "metadata": {},
   "source": [
    "**[analogWrite(PMW digital pin, value)](https://www.arduino.cc/reference/en/language/functions/analog-io/analogwrite/)**\n",
    "\n",
    "> Writes an analog value (PWM wave) to a pin\n",
    "\n",
    "> The **value** should be in range **0 - 255**"
   ]
  },
  {
   "cell_type": "markdown",
   "metadata": {},
   "source": [
    "### Sketch for fading LED"
   ]
  },
  {
   "cell_type": "markdown",
   "metadata": {},
   "source": [
    "<div style=\"border:2px solid;margin:0 20px 0 20px\" ></div> \n",
    "\n",
    "```c++\n",
    "void setup() {\n",
    "  // put your setup code here, to run once\n",
    "\n",
    "  // Write value to one of the digital pins marked with ~\n",
    "  pinMode(6, OUTPUT);\n",
    "\n",
    "}\n",
    "\n",
    "void loop() {\n",
    "  // put your main code here, to run repeatedly:\n",
    "\n",
    "  // read analog input\n",
    "  //possible values 0 - 1023\n",
    "  int potValue = analogRead(A0);\n",
    "\n",
    "  int mappedValue = map(potValue,0,1023,0,255);\n",
    "\n",
    "  // popssible values 0 - 255\n",
    "  analogWrite(6,mappedValue);\n",
    "  // can also approximate like this\n",
    "  // analogWrite(6, potValue/4);\n",
    "\n",
    "}\n",
    "```\n",
    "<div style=\"border:2px solid;margin:0 20px 0 20px\" ></div> \n"
   ]
  },
  {
   "cell_type": "code",
   "execution_count": null,
   "metadata": {},
   "outputs": [],
   "source": []
  }
 ],
 "metadata": {
  "kernelspec": {
   "display_name": "Python 3",
   "language": "python",
   "name": "python3"
  },
  "language_info": {
   "codemirror_mode": {
    "name": "ipython",
    "version": 3
   },
   "file_extension": ".py",
   "mimetype": "text/x-python",
   "name": "python",
   "nbconvert_exporter": "python",
   "pygments_lexer": "ipython3",
   "version": "3.4.3"
  }
 },
 "nbformat": 4,
 "nbformat_minor": 2
}
