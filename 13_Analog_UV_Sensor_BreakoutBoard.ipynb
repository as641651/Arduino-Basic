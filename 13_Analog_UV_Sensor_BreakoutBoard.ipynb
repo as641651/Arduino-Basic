{
 "cells": [
  {
   "cell_type": "markdown",
   "metadata": {},
   "source": [
    "## UV sensor breakout board"
   ]
  },
  {
   "cell_type": "markdown",
   "metadata": {},
   "source": [
    "### Breakout boards\n",
    "\n",
    "> 1) Normally, the circuit of the sensors are not as simple as a photoresistor. Each sensor may have its own integrated circuits.\n",
    "\n",
    "> 2) Breakout boards are another IC attached to the arduino. The word breakout implies, they are not specific to arduino boards (unlike shields)\n",
    "\n",
    "> 3) For **usage** of breakoutboards, **we have to read for instructions from the manufacturer**"
   ]
  },
  {
   "cell_type": "markdown",
   "metadata": {},
   "source": [
    "### UV sensor - GUVA S12D breakout"
   ]
  },
  {
   "cell_type": "markdown",
   "metadata": {},
   "source": [
    "> **[Product page](https://www.adafruit.com/product/1918)** : \n",
    "\n",
    ">> It contains 3 pins, 1 to 5V supply, 1 to GND and the other to A0\n",
    "\n",
    ">> We have to divide the output voltage (got by multiplying A0 with 5/1023.) by 0.1 to get UV index\n",
    "\n",
    ">> The **[datasheet](https://cdn-shop.adafruit.com/datasheets/1918guva.pdf)** shows the wavelent to which the device responds"
   ]
  },
  {
   "cell_type": "markdown",
   "metadata": {},
   "source": [
    "<img src=\"files/uv.png\" width=300px/>"
   ]
  },
  {
   "cell_type": "markdown",
   "metadata": {},
   "source": [
    "### Sketch"
   ]
  },
  {
   "cell_type": "markdown",
   "metadata": {},
   "source": [
    "<div style=\"border:2px solid;margin:0 20px 0 20px\" ></div> \n",
    "\n",
    "```c++\n",
    "void setup() {\n",
    "  // put your setup code here, to run once:\n",
    "  Serial.begin(9600);\n",
    "\n",
    "}\n",
    "\n",
    "void loop() {\n",
    "  // put your main code here, to run repeatedly:\n",
    "\n",
    "  // read the value from sensor\n",
    "  int sensorValue = analogRead(A0);\n",
    "\n",
    "  //convert the sensor value to voltage\n",
    "  // 0 - 5V is divided into 1023 segmets\n",
    "  float voltage = sensorValue*(5.0/1023.0);\n",
    "\n",
    "  // as per the sensor datasheet, output voltage should be divided by 0.1\n",
    "  // to get UV index\n",
    "  float uv_index = voltage/0.1;\n",
    "\n",
    "  Serial.print(sensorValue);\n",
    "  Serial.print(\", \");\n",
    "  Serial.println(uv_index);\n",
    "\n",
    "  //delay inbetween reads for stability\n",
    "  delay(100);\n",
    "}\n",
    "```\n",
    "<div style=\"border:2px solid;margin:0 20px 0 20px\" ></div> \n"
   ]
  },
  {
   "cell_type": "code",
   "execution_count": null,
   "metadata": {},
   "outputs": [],
   "source": []
  }
 ],
 "metadata": {
  "kernelspec": {
   "display_name": "Python 3",
   "language": "python",
   "name": "python3"
  },
  "language_info": {
   "codemirror_mode": {
    "name": "ipython",
    "version": 3
   },
   "file_extension": ".py",
   "mimetype": "text/x-python",
   "name": "python",
   "nbconvert_exporter": "python",
   "pygments_lexer": "ipython3",
   "version": "3.4.3"
  }
 },
 "nbformat": 4,
 "nbformat_minor": 2
}
