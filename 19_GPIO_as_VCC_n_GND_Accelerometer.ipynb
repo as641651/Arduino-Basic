{
 "cells": [
  {
   "cell_type": "markdown",
   "metadata": {},
   "source": [
    "## GPIO as VCC and GND"
   ]
  },
  {
   "cell_type": "markdown",
   "metadata": {},
   "source": [
    "> To **connect a device directly to arduino**, we can set the digital pins to HIGH and LOW, which will act as VCC and GND\n",
    "\n",
    "### Connecting DHT22 directly"
   ]
  },
  {
   "cell_type": "markdown",
   "metadata": {},
   "source": [
    "<img src=\"files/onboard.jpg\" width=200px/>\n",
    "\n",
    "> **PULL UP resistance** connected from the **data line** can be done **internally** by arduino. \n",
    "\n",
    "> To do this, set the **data pin** to **INPUT_PULLUP** pin mode"
   ]
  },
  {
   "cell_type": "markdown",
   "metadata": {},
   "source": [
    "### Sktech"
   ]
  },
  {
   "cell_type": "markdown",
   "metadata": {},
   "source": [
    "<div style=\"border:2px solid;margin:0 20px 0 20px\" ></div> \n",
    "\n",
    "```c++\n",
    "#include \"DHT.h\"\n",
    "\n",
    "#define DHTPIN 4\n",
    "#define GNDPIN 3\n",
    "#define VCCPIN 5\n",
    " \n",
    "#define DHTTYPE DHT22 \n",
    "\n",
    "DHT dht(DHTPIN, DHTTYPE);\n",
    "\n",
    "void setup() {\n",
    "  Serial.begin(9600);\n",
    "  Serial.println(F(\"DHTxx test!\"));\n",
    "\n",
    "  pinMode(DHTPIN, INPUT_PULLUP);\n",
    "  pinMode(GNDPIN, OUTPUT);\n",
    "  pinMode(VCCPIN, OUTPUT);\n",
    "\n",
    "  digitalWrite(GNDPIN, LOW);\n",
    "  digitalWrite(VCCPIN, HIGH);\n",
    "\n",
    "  // THIS DOES NOT WORK UNLESS VALUE is 255\n",
    "  // TO make HIGH = 3.3V, usw PWM pin for VCC\n",
    "  // value = (255/5)*3.3\n",
    "  // analogWrite(VCCPIN, 170);\n",
    "  \n",
    "  dht.begin();\n",
    "}\n",
    "\n",
    "void loop() {\n",
    "    \n",
    "    // SAME AS BEFORE\n",
    "}\n",
    "```\n",
    "<div style=\"border:2px solid;margin:0 20px 0 20px\" ></div> \n"
   ]
  },
  {
   "cell_type": "markdown",
   "metadata": {},
   "source": [
    "## Precautions!!\n",
    "\n",
    "The **GPIO** pins are connected to the MC, unlike the actual VCC pin. Hence take the following precautions,\n",
    "\n",
    "> 1) Make sure that your breakout can **operate at 5V**\n",
    "\n",
    "> 2) The **current flowing** through the circuit should be **less than 20mA**. For this, **check the device current rating**, which tells **how much current will be drawn maximum at the operating voltage**(If you supply 5V to a device which can operate at 3.3V, it will draw more current) \n",
    "\n",
    "> 3) **Connect the circuit in the breadboard first to double check** if the right current is flowing.\n"
   ]
  },
  {
   "cell_type": "markdown",
   "metadata": {},
   "source": [
    "<img src=\"files/onboard2.jpg\" width=500px/>\n"
   ]
  },
  {
   "cell_type": "markdown",
   "metadata": {},
   "source": [
    "## Accelerometer ADXL335\n",
    "\n",
    "Accelerometer is used to measure the orientation of the device. It is an **analog device** with **three analog pins** for measuring **x**, **y** and **z** axis orientations\n",
    "\n",
    "> 1) It is more common to use an accelerometer fixed on board to the device.\n",
    "\n",
    "> 2) But **ADXL335** works at **3.3V**.\n",
    "\n",
    "> 3) Make sure that the breakout you purchase has a **voltage regulator in it**\n",
    "\n",
    ">> **Adafruit** version has a voltage regulator, but **Sparkfun** version does not\n",
    "\n",
    "### How does a voltage adapter look?\n",
    "\n",
    "> A **voltage adapter** will look like the **small chip right next to barrel plug on arduino board**"
   ]
  },
  {
   "cell_type": "code",
   "execution_count": null,
   "metadata": {},
   "outputs": [],
   "source": []
  }
 ],
 "metadata": {
  "kernelspec": {
   "display_name": "Python 3",
   "language": "python",
   "name": "python3"
  },
  "language_info": {
   "codemirror_mode": {
    "name": "ipython",
    "version": 3
   },
   "file_extension": ".py",
   "mimetype": "text/x-python",
   "name": "python",
   "nbconvert_exporter": "python",
   "pygments_lexer": "ipython3",
   "version": "3.4.3"
  }
 },
 "nbformat": 4,
 "nbformat_minor": 2
}
