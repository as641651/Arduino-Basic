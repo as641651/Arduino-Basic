{
 "cells": [
  {
   "cell_type": "markdown",
   "metadata": {},
   "source": [
    "## I2C Sensors\n",
    "\n",
    "> Two examples are demonstrated. One where I2C address cannot be changed and another one where it can be changed\n",
    "\n",
    "> For Adafruit breakout boards, if the I2C addrres can be changed, it will be mentioned in the **technical details** section of the **product page**\n",
    "\n",
    ">> **NOTE** : It is **not directly possible to connect two I2C devices with the same non editable address**. Although there are workarounds, it may not be efficient.\n",
    "\n",
    ">> When planning to use **multiple I2C devices on a single board**, **make sure they have different addresses**\n",
    "\n",
    ">> **NOTE**: Check the **Operating voltage** before connecting any devices\n",
    "\n",
    ">Default  **I2C** address can be found in the **product page** or in the **library's header file**. If it is getting tedious, use **[I2C scanner sketch](https://github.com/futureshocked/ArduinoSbS2017/blob/master/i2c_scanner/i2c_scanner.ino)**, which will scan all I2C address and find the address where the device is located.\n",
    "\n",
    "> To use **I2C**, we have to import **Wire.h**"
   ]
  },
  {
   "cell_type": "markdown",
   "metadata": {},
   "source": [
    "### 1)  Adafruit TCS34715 RGB Sensor"
   ]
  },
  {
   "cell_type": "markdown",
   "metadata": {},
   "source": [
    "> **Product page:** [Click here](https://www.adafruit.com/product/1334)\n",
    "\n",
    "> **Library** : [git hub repo](https://github.com/adafruit/Adafruit_TCS34725)\n",
    "\n",
    "> **I2C address** is **Not changable**. The default address used by the device is **0x29** which can be found in the **product page**, or from the **[Adafruit_TCS34725.h](https://github.com/adafruit/Adafruit_TCS34725/blob/master/Adafruit_TCS34725.h)** file from the library\n"
   ]
  },
  {
   "cell_type": "markdown",
   "metadata": {},
   "source": [
    "> #### Circuit\n",
    "\n",
    "<img src=\"files/i2c_rgb.png\" />"
   ]
  },
  {
   "cell_type": "markdown",
   "metadata": {},
   "source": [
    "### 2) Adafruit High accuracy temperature sensor MCP9808"
   ]
  },
  {
   "cell_type": "markdown",
   "metadata": {},
   "source": [
    "> **Product page:** [Click here](https://www.adafruit.com/product/1782)\n",
    "\n",
    "> **Library** : [git hub repo](https://github.com/adafruit/Adafruit_MCP9808_Library)\n",
    "\n",
    "> The technical specification says, **I2C can be any address inbetween 0x18 - 0x1F** (0x18 is the default address in the library's header file). To find the hexadecimal numbers between two, [click here](http://cactus.io/resources/toolbox/decimal-binary-octal-hexadecimal-conversion)\n",
    "\n",
    ">> **When you change the I2C address, the hardware connections should be changed**. (Eg, certain pins should be short circuited)\n",
    "\n",
    "> **Changing I2C address**\n",
    "\n",
    ">> To do this, refer the **[datasheet](http://ww1.microchip.com/downloads/en/DeviceDoc/25095A.pdf)** and check for **PIN descriptions** and see if it has **any pin assiged to be as a slave address**\n",
    "\n",
    "<img src=\"files/i2c_address.png\" width=600px/>"
   ]
  },
  {
   "cell_type": "markdown",
   "metadata": {},
   "source": [
    ">> According to this documentation, **A2, A1, A0** are the pins in the device to be used for slave address that can be changed by user. The address pins **A3 - A3 cannot be changed** \n",
    "\n",
    ">> By default, these pins are set to **LOW**. This can be checked by converting **0011000** to hex gives the default address **0x18**.\n",
    "\n",
    ">> To change address to **0011001**, we have to set **A0** to **HIGH** by connecting **A0 pin** in the device to **VCC**"
   ]
  },
  {
   "cell_type": "markdown",
   "metadata": {},
   "source": [
    "> #### Circuit with default slave address 0x18\n",
    "\n",
    "<img src=\"files/i2c_tempSensor.png\" width=600px />"
   ]
  },
  {
   "cell_type": "code",
   "execution_count": null,
   "metadata": {},
   "outputs": [],
   "source": []
  }
 ],
 "metadata": {
  "kernelspec": {
   "display_name": "Python 3",
   "language": "python",
   "name": "python3"
  },
  "language_info": {
   "codemirror_mode": {
    "name": "ipython",
    "version": 3
   },
   "file_extension": ".py",
   "mimetype": "text/x-python",
   "name": "python",
   "nbconvert_exporter": "python",
   "pygments_lexer": "ipython3",
   "version": "3.4.3"
  }
 },
 "nbformat": 4,
 "nbformat_minor": 2
}
