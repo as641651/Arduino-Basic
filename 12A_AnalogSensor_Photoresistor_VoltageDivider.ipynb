{
 "cells": [
  {
   "cell_type": "markdown",
   "metadata": {},
   "source": [
    "## Photoresistor"
   ]
  },
  {
   "cell_type": "markdown",
   "metadata": {},
   "source": [
    "> It is like a potentiometer, but instead of a knob, it uses light to control resistance\n",
    "\n",
    "> When light falls on photo resistor, resitance decreases"
   ]
  },
  {
   "cell_type": "markdown",
   "metadata": {},
   "source": [
    "### Usage\n",
    "\n",
    "> 1) It is an **analog device**, and the state of the device is read from one of the **analog input pins**\n",
    "\n",
    "> 2) The value of resistance R1 determines the calibration of the analog values (0-1023). That is, if we want the scale to be at midpoint for ambient lighting, measure the resistance at ambient condtions (R2) and compute R1 using the **voltage divider formula (in notes)**. For this case, R1 = R2"
   ]
  },
  {
   "cell_type": "markdown",
   "metadata": {},
   "source": [
    "<img src=\"files/photoresistor1.png\" width=400px />"
   ]
  },
  {
   "cell_type": "markdown",
   "metadata": {},
   "source": [
    "### Sketch"
   ]
  },
  {
   "cell_type": "markdown",
   "metadata": {},
   "source": [
    "<div style=\"border:2px solid;margin:0 20px 0 20px\" ></div> \n",
    "\n",
    "```c++\n",
    "void setup() {\n",
    "  // put your setup code here, to run once:\n",
    "  Serial.begin(9600);\n",
    "}\n",
    "\n",
    "void loop() {\n",
    "  // put your main code here, to run repeatedly:\n",
    "\n",
    "  // under bright condition, resistance is 0,\n",
    "  // we get small A0 value\n",
    "\n",
    "  // under dark condition, resistance is high, max 5V\n",
    "  // we get large A0 value\n",
    "\n",
    "  // under ambient condition, we have chosen resistor such\n",
    "  // that A0 value is at midpoint (around 500)\n",
    "  int value = analogRead(A0);\n",
    "  Serial.println(value);\n",
    "  delay(100);\n",
    "}\n",
    "```\n",
    "<div style=\"border:2px solid;margin:0 20px 0 20px\" ></div> \n"
   ]
  },
  {
   "cell_type": "code",
   "execution_count": null,
   "metadata": {},
   "outputs": [],
   "source": []
  }
 ],
 "metadata": {
  "kernelspec": {
   "display_name": "Python 3",
   "language": "python",
   "name": "python3"
  },
  "language_info": {
   "codemirror_mode": {
    "name": "ipython",
    "version": 3
   },
   "file_extension": ".py",
   "mimetype": "text/x-python",
   "name": "python",
   "nbconvert_exporter": "python",
   "pygments_lexer": "ipython3",
   "version": "3.4.3"
  }
 },
 "nbformat": 4,
 "nbformat_minor": 2
}
