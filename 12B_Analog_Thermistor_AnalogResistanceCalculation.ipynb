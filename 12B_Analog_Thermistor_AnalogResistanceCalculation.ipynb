{
 "cells": [
  {
   "cell_type": "markdown",
   "metadata": {},
   "source": [
    "## Thermistor"
   ]
  },
  {
   "cell_type": "markdown",
   "metadata": {},
   "source": [
    "> Thermistor is same as a photoresistor, except that the temperature controls the resistance instead of light"
   ]
  },
  {
   "cell_type": "markdown",
   "metadata": {},
   "source": [
    "### Analog resistance\n",
    "\n",
    "> Check notes for computation of analog resistance from Analog readings. \n",
    "\n",
    "> The following formula is valid for potentiometer and photoresistor\n",
    "\n",
    ">> R_analog = R_1 / (1023/A0 -1)"
   ]
  },
  {
   "cell_type": "markdown",
   "metadata": {},
   "source": [
    "### Sketch"
   ]
  },
  {
   "cell_type": "markdown",
   "metadata": {},
   "source": [
    "<div style=\"border:2px solid;margin:0 20px 0 20px\" ></div> \n",
    "\n",
    "```c++\n",
    "// Thermistor resistance at ambient temperature = 10Kohm\n",
    "// Therefore, we choose a serial resistance 10Kohm\n",
    "#define THERMISTORRESISTANCE 1000\n",
    "#define THERMISTORPIN A0\n",
    "\n",
    "void setup() {\n",
    "  // put your setup code here, to run once:\n",
    "  Serial.begin(9600);\n",
    "}\n",
    "\n",
    "void loop() {\n",
    "  // put your main code here, to run repeatedly:\n",
    "  float reading;\n",
    "  reading = analogRead(THERMISTORPIN);\n",
    "\n",
    "  Serial.print(\"Analog reading\");\n",
    "  Serial.println(reading);\n",
    "\n",
    "  //calculate resistance from analog reading\n",
    "  // check notes for derivation\n",
    "  reading = (1023/reading)-1;\n",
    "  reading = THERMISTORRESISTANCE/reading;\n",
    "\n",
    "  Serial.print(\"Termistor resistance \");\n",
    "  Serial.println(reading);\n",
    "\n",
    "  delay(1000);\n",
    "\n",
    "}\n",
    "```\n",
    "<div style=\"border:2px solid;margin:0 20px 0 20px\" ></div> \n"
   ]
  },
  {
   "cell_type": "markdown",
   "metadata": {},
   "source": [
    "### Thermistor as thermometer"
   ]
  },
  {
   "cell_type": "markdown",
   "metadata": {},
   "source": [
    "> It is possible to compute temperature using a thermistor with **[Steinhart–Hart equation](https://en.wikipedia.org/wiki/Thermistor#Steinhart.E2.80.93Hart_equation)\n",
    "\n",
    "> There is an [external library](https://github.com/panStamp/thermistor) that implements this calculation\n",
    "\n",
    "> Just install the library, instantiate the object with required parameters and read temperature"
   ]
  },
  {
   "cell_type": "code",
   "execution_count": null,
   "metadata": {},
   "outputs": [],
   "source": []
  }
 ],
 "metadata": {
  "kernelspec": {
   "display_name": "Python 3",
   "language": "python",
   "name": "python3"
  },
  "language_info": {
   "codemirror_mode": {
    "name": "ipython",
    "version": 3
   },
   "file_extension": ".py",
   "mimetype": "text/x-python",
   "name": "python",
   "nbconvert_exporter": "python",
   "pygments_lexer": "ipython3",
   "version": "3.4.3"
  }
 },
 "nbformat": 4,
 "nbformat_minor": 2
}
