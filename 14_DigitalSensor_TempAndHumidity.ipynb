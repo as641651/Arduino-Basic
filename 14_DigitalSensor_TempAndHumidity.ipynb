{
 "cells": [
  {
   "cell_type": "markdown",
   "metadata": {},
   "source": [
    "## Temperature and humidity sensor"
   ]
  },
  {
   "cell_type": "markdown",
   "metadata": {},
   "source": [
    "### Digital sensor\n",
    "\n",
    "> 1)  The output from the sensor is read through **variations in digital signal**\n",
    "\n",
    "> 2) Digital sensors usually come with **external libraries** that will **interpret the variation of HIGH and LOW from a digital pin over time** and compute the required result."
   ]
  },
  {
   "cell_type": "markdown",
   "metadata": {},
   "source": [
    "### DHT 22 Temperature and humidity sensor"
   ]
  },
  {
   "cell_type": "markdown",
   "metadata": {},
   "source": [
    "<img src=\"files/dht22.png\" width=500px />"
   ]
  },
  {
   "cell_type": "markdown",
   "metadata": {},
   "source": [
    "A pull up resistor is used to close the circuit when data is not being transmitted"
   ]
  },
  {
   "cell_type": "markdown",
   "metadata": {},
   "source": [
    "### Sketch\n",
    "\n",
    "> Install the following libraries from Adafruit\n",
    "\n",
    ">> 1) **[Adafruit unified sensor](https://github.com/adafruit/Adafruit_Sensor)**\n",
    "\n",
    ">> 2) **[DHT-sensor-library](https://github.com/adafruit/DHT-sensor-library)**\n",
    "\n",
    "> Clone these libraries in the **library** directory in your sketch folder \n",
    "\n",
    "> Look at the **Example sketches** corresponding to this library to see its usage"
   ]
  },
  {
   "cell_type": "markdown",
   "metadata": {},
   "source": [
    "<div style=\"border:2px solid;margin:0 20px 0 20px\" ></div> \n",
    "\n",
    "```c++\n",
    "// Example testing sketch for various DHT humidity/temperature sensors\n",
    "// Written by ladyada, public domain\n",
    "\n",
    "// REQUIRES the following Arduino libraries:\n",
    "// - DHT Sensor Library: https://github.com/adafruit/DHT-sensor-library\n",
    "// - Adafruit Unified Sensor Lib: https://github.com/adafruit/Adafruit_Sensor\n",
    "\n",
    "#include \"DHT.h\"\n",
    "\n",
    "#define DHTPIN 2     // Digital pin connected to the DHT sensor\n",
    "// Feather HUZZAH ESP8266 note: use pins 3, 4, 5, 12, 13 or 14 --\n",
    "// Pin 15 can work but DHT must be disconnected during program upload.\n",
    "\n",
    "// Uncomment whatever type you're using!\n",
    "//#define DHTTYPE DHT11   // DHT 11\n",
    "#define DHTTYPE DHT22   // DHT 22  (AM2302), AM2321\n",
    "//#define DHTTYPE DHT21   // DHT 21 (AM2301)\n",
    "\n",
    "// Connect pin 1 (on the left) of the sensor to +5V\n",
    "// NOTE: If using a board with 3.3V logic like an Arduino Due connect pin 1\n",
    "// to 3.3V instead of 5V!\n",
    "// Connect pin 2 of the sensor to whatever your DHTPIN is\n",
    "// Connect pin 4 (on the right) of the sensor to GROUND\n",
    "// Connect a 10K resistor from pin 2 (data) to pin 1 (power) of the sensor\n",
    "\n",
    "// Initialize DHT sensor.\n",
    "// Note that older versions of this library took an optional third parameter to\n",
    "// tweak the timings for faster processors.  This parameter is no longer needed\n",
    "// as the current DHT reading algorithm adjusts itself to work on faster procs.\n",
    "DHT dht(DHTPIN, DHTTYPE);\n",
    "\n",
    "void setup() {\n",
    "  Serial.begin(9600);\n",
    "  Serial.println(F(\"DHTxx test!\"));\n",
    "\n",
    "  dht.begin();\n",
    "}\n",
    "\n",
    "void loop() {\n",
    "  // Wait a few seconds between measurements.\n",
    "  delay(2000);\n",
    "\n",
    "  // Reading temperature or humidity takes about 250 milliseconds!\n",
    "  // Sensor readings may also be up to 2 seconds 'old' (its a very slow sensor)\n",
    "  float h = dht.readHumidity();\n",
    "  // Read temperature as Celsius (the default)\n",
    "  float t = dht.readTemperature();\n",
    "  // Read temperature as Fahrenheit (isFahrenheit = true)\n",
    "  float f = dht.readTemperature(true);\n",
    "\n",
    "  // Check if any reads failed and exit early (to try again).\n",
    "  if (isnan(h) || isnan(t) || isnan(f)) {\n",
    "    Serial.println(F(\"Failed to read from DHT sensor!\"));\n",
    "    return;\n",
    "  }\n",
    "\n",
    "  // Compute heat index in Fahrenheit (the default)\n",
    "  float hif = dht.computeHeatIndex(f, h);\n",
    "  // Compute heat index in Celsius (isFahreheit = false)\n",
    "  float hic = dht.computeHeatIndex(t, h, false);\n",
    "\n",
    "  Serial.print(F(\"Humidity: \"));\n",
    "  Serial.print(h);\n",
    "  Serial.print(F(\"%  Temperature: \"));\n",
    "  Serial.print(t);\n",
    "  Serial.print(F(\"°C \"));\n",
    "  Serial.print(f);\n",
    "  Serial.print(F(\"°F  Heat index: \"));\n",
    "  Serial.print(hic);\n",
    "  Serial.print(F(\"°C \"));\n",
    "  Serial.print(hif);\n",
    "  Serial.println(F(\"°F\"));\n",
    "}\n",
    "```\n",
    "<div style=\"border:2px solid;margin:0 20px 0 20px\" ></div> \n"
   ]
  },
  {
   "cell_type": "code",
   "execution_count": null,
   "metadata": {},
   "outputs": [],
   "source": []
  }
 ],
 "metadata": {
  "kernelspec": {
   "display_name": "Python 3",
   "language": "python",
   "name": "python3"
  },
  "language_info": {
   "codemirror_mode": {
    "name": "ipython",
    "version": 3
   },
   "file_extension": ".py",
   "mimetype": "text/x-python",
   "name": "python",
   "nbconvert_exporter": "python",
   "pygments_lexer": "ipython3",
   "version": "3.4.3"
  }
 },
 "nbformat": 4,
 "nbformat_minor": 2
}
