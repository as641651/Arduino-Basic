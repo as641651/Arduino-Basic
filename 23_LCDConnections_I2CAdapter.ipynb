{
 "cells": [
  {
   "cell_type": "markdown",
   "metadata": {},
   "source": [
    "## LCD"
   ]
  },
  {
   "cell_type": "markdown",
   "metadata": {},
   "source": [
    "> 1) Has a **standard 16 pin connection**. [Click here](https://electronicsforu.com/resources/learn-electronics/16x2-lcd-pinout-diagram) for details.\n",
    "\n",
    ">> **First two pins :** VCC and GND for display\n",
    "\n",
    ">> **Last two pins :** VCC and GND for back light\n",
    "\n",
    ">> **3rd pin :** Contrast. Controlled by potentiometer\n",
    "\n",
    ">> **4 - 6** : Reset and enable pins\n",
    "\n",
    ">> **7-14** : 8 data lines for **8-bit mode**. But it can also work with 4 datalines in **4 bit mode** "
   ]
  },
  {
   "cell_type": "markdown",
   "metadata": {},
   "source": [
    "### Sketch\n"
   ]
  },
  {
   "cell_type": "markdown",
   "metadata": {},
   "source": [
    "<div style=\"border:2px solid;margin:0 20px 0 20px\" ></div> \n",
    "\n",
    "```c++\n",
    " *  Libraries\n",
    " *  ---------\n",
    " *  - LiquidCrystal (comes with Arduino IDE)\n",
    " *\n",
    " * Connections\n",
    " * -----------\n",
    " *  LCD screen    |    Arduino Uno\n",
    " *  -----------------------------\n",
    " *      1  (Vss)  |      GND\n",
    " *      2  (Vdd)  |      5V\n",
    " *      3  (VO)   |      Potentiometer\n",
    " *      4  (RS)   |      12\n",
    " *      5  (RW)   |      GND\n",
    " *      6  (E)    |      11\n",
    " *      7  (D0)   |      Not connected\n",
    " *      8  (D1)   |      Not connected\n",
    " *      9  (D2)   |      Not connected\n",
    " *      10 (D3)   |      Not connected\n",
    " *      11 (D4)   |      5\n",
    " *      12 (D5)   |      4\n",
    " *      13 (D6)   |      3\n",
    " *      14 (D7)   |      2\n",
    " *      15 (A)    |      5V\n",
    " *      16 (K)    |      GND\n",
    " *      \n",
    " * For the potentiometer, connect the middle pin\n",
    " * to pin 3 (V0) of the display. The other two, connect\n",
    " * to 5V and GND. It doesn't matter which pin goes to\n",
    " * 5V and to GND.\n",
    " * \n",
    " * Other information\n",
    " * -----------------\n",
    " *  For information on the LiquidCrystal library: https://www.arduino.cc/en/Reference/LiquidCrystal\n",
    " *  \n",
    " *  Created on November 18 2016 by Peter Dalmaris\n",
    " * \n",
    " */\n",
    "\n",
    "// include the library code:\n",
    "#include <LiquidCrystal.h>\n",
    "\n",
    "// initialize the library with the numbers of the interface pins\n",
    "LiquidCrystal lcd(12, 11, 5, 4, 3, 2);\n",
    "\n",
    "void setup() {\n",
    "  // set up the LCD's number of columns and rows: \n",
    "  lcd.begin(16, 2);\n",
    "  // Print a message to the LCD.\n",
    "  lcd.print(\"hello, world!\");\n",
    "}\n",
    "\n",
    "void loop() {\n",
    "  // set the cursor to column 0, line 1\n",
    "  // (note: line 1 is the second row, since counting begins with 0):\n",
    "  lcd.setCursor(0, 1);\n",
    "  // print the number of seconds since reset:\n",
    "  lcd.print(millis()/1000);\n",
    "}\n",
    "```\n",
    "<div style=\"border:2px solid;margin:0 20px 0 20px\" ></div> \n"
   ]
  },
  {
   "cell_type": "markdown",
   "metadata": {},
   "source": [
    "## Connecting with I2C adapter\n",
    "\n",
    "> 1) It may be tedious to do all the wiring while making an actual gadet. So it is better to use an **LCD I2C adapter** with **PCF8574 backup chip**\n",
    "\n",
    "> 2) Then you can use the **LiquidCrystal_I2C.h** library. Note that this library **works only with PCF8574 compatable variations**\n",
    "\n",
    ">> This adapter has 6 pads which can be soldered together to change I2C address. IF there are conflicts, short two pads and use **[I2C scanner sketch](https://github.com/futureshocked/ArduinoSbS2017/blob/master/i2c_scanner/i2c_scanner.ino)** to find the new address"
   ]
  },
  {
   "cell_type": "markdown",
   "metadata": {},
   "source": [
    "### Sketch"
   ]
  },
  {
   "cell_type": "markdown",
   "metadata": {},
   "source": [
    "<div style=\"border:2px solid;margin:0 20px 0 20px\" ></div> \n",
    "\n",
    "```c++\n",
    "#include <LiquidCrystal_I2C.h>\n",
    "\n",
    "LiquidCrystal_I2C lcd(0x27,16,2);\n",
    "\n",
    "void setup()\n",
    "{\n",
    "    lcd.init();\n",
    "    lcd.backlight();\n",
    "    lcd.setCursor(0, 0);\n",
    "    lcd.print(\"Hello world!\");\n",
    "    lcd.setCursor(0, 1);\n",
    "    lcd.print(\"Row number: \");\n",
    "    lcd.setCursor(12, 1);\n",
    "    lcd.print(\"2\");\n",
    "}\n",
    "```\n",
    "<div style=\"border:2px solid;margin:0 20px 0 20px\" ></div> \n"
   ]
  },
  {
   "cell_type": "markdown",
   "metadata": {},
   "source": [
    "## LCD shield\n",
    "\n",
    "> **Adafruit RGB LCD shield** can be pluggon on top on UNO board. \n",
    "\n",
    "> This shield uses **I2C connections** through the pins\n",
    "\n",
    "> **DOWNSIDE**:\n",
    "\n",
    ">> This shield should be used in-combination with some other shield\n",
    "\n",
    ">> It is not possible to use the GPIO pins on top of this shield. To attach sensors, you have to attach this shield on top of some prototyping shield like **Adafruit proto shield**. Or you can have other shields that have sensor or ethernet and have LCD for user interface\n",
    "\n",
    ">> When using other shields, make sure there is no I2C conflicts"
   ]
  },
  {
   "cell_type": "code",
   "execution_count": null,
   "metadata": {},
   "outputs": [],
   "source": []
  }
 ],
 "metadata": {
  "kernelspec": {
   "display_name": "Python 3",
   "language": "python",
   "name": "python3"
  },
  "language_info": {
   "codemirror_mode": {
    "name": "ipython",
    "version": 3
   },
   "file_extension": ".py",
   "mimetype": "text/x-python",
   "name": "python",
   "nbconvert_exporter": "python",
   "pygments_lexer": "ipython3",
   "version": "3.4.3"
  }
 },
 "nbformat": 4,
 "nbformat_minor": 2
}
