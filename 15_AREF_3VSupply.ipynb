{
 "cells": [
  {
   "cell_type": "markdown",
   "metadata": {},
   "source": [
    "## AREF pin\n",
    "\n",
    "> 1) If **3.3V** supply is used for an analog device, the arduino's analog to digital convertor should be informed about this change.\n",
    "\n",
    "> 2) This is done by **connecting the line to 3.3V** supply **to AREF pin**\n",
    "\n",
    "> 5) This can sometimes give more accurate reading because the 5V supply, when supplied through computers USB is often noisy because of the CPU operations"
   ]
  },
  {
   "cell_type": "markdown",
   "metadata": {},
   "source": [
    "### Example of a thermistor using 3.3V supply\n",
    "\n",
    "<img src=\"files/aref.png\" />"
   ]
  },
  {
   "cell_type": "code",
   "execution_count": null,
   "metadata": {},
   "outputs": [],
   "source": []
  }
 ],
 "metadata": {
  "kernelspec": {
   "display_name": "Python 3",
   "language": "python",
   "name": "python3"
  },
  "language_info": {
   "codemirror_mode": {
    "name": "ipython",
    "version": 3
   },
   "file_extension": ".py",
   "mimetype": "text/x-python",
   "name": "python",
   "nbconvert_exporter": "python",
   "pygments_lexer": "ipython3",
   "version": "3.4.3"
  }
 },
 "nbformat": 4,
 "nbformat_minor": 2
}
