{
 "cells": [
  {
   "cell_type": "markdown",
   "metadata": {},
   "source": [
    "## Read the state of a button "
   ]
  },
  {
   "cell_type": "markdown",
   "metadata": {},
   "source": [
    "**[digitalRead](https://www.arduino.cc/reference/en/language/functions/digital-io/digitalread/)**\n",
    "\n",
    "Reads the value from a specified digital pin, either HIGH or LOW.\n",
    "\n",
    "> Syntax\n",
    "\n",
    ">> digitalRead(pin)\n",
    "\n",
    "> **Parameters**\n",
    "\n",
    ">> **pin**: the number of the digital pin you want to read\n",
    "\n",
    "> **Returns**\n",
    "\n",
    ">> HIGH or LOW\n"
   ]
  },
  {
   "cell_type": "markdown",
   "metadata": {},
   "source": [
    "<img src=\"files/switch.png\" width=400px/>"
   ]
  },
  {
   "cell_type": "markdown",
   "metadata": {},
   "source": [
    "### Sketch\n"
   ]
  },
  {
   "cell_type": "markdown",
   "metadata": {},
   "source": [
    "<div style=\"border:2px solid;margin:0 20px 0 20px\" ></div> \n",
    "\n",
    "\n",
    "```c++\n",
    "// program to read button state and print to serial monitor\n",
    "int buttonState = 0;\n",
    "void setup() {\n",
    "  // put your setup code here, to run once:\n",
    "  pinMode(2,INPUT);\n",
    "  Serial.begin(9600);\n",
    "  \n",
    "\n",
    "}\n",
    "\n",
    "void loop() {\n",
    "  // put your main code here, to run repeatedly:\n",
    "\n",
    "  // read button state\n",
    "  buttonState = digitalRead(2);\n",
    "\n",
    "  if(buttonState == HIGH){\n",
    "    Serial.println(\"HIGH\");\n",
    "  }else{\n",
    "    Serial.println(\"LOW\");\n",
    "  }\n",
    "\n",
    "  delay(1000);\n",
    "}\n",
    "```\n",
    "<div style=\"border:2px solid;margin:0 20px 0 20px\" ></div> \n"
   ]
  },
  {
   "cell_type": "code",
   "execution_count": null,
   "metadata": {},
   "outputs": [],
   "source": []
  }
 ],
 "metadata": {
  "kernelspec": {
   "display_name": "Python 3",
   "language": "python",
   "name": "python3"
  },
  "language_info": {
   "codemirror_mode": {
    "name": "ipython",
    "version": 3
   },
   "file_extension": ".py",
   "mimetype": "text/x-python",
   "name": "python",
   "nbconvert_exporter": "python",
   "pygments_lexer": "ipython3",
   "version": "3.4.3"
  }
 },
 "nbformat": 4,
 "nbformat_minor": 2
}
